{
  "nbformat": 4,
  "nbformat_minor": 0,
  "metadata": {
    "colab": {
      "provenance": [],
      "authorship_tag": "ABX9TyO6ZfYmEPUjugzUK65Hj4/J",
      "include_colab_link": true
    },
    "kernelspec": {
      "name": "python3",
      "display_name": "Python 3"
    },
    "language_info": {
      "name": "python"
    }
  },
  "cells": [
    {
      "cell_type": "markdown",
      "metadata": {
        "id": "view-in-github",
        "colab_type": "text"
      },
      "source": [
        "<a href=\"https://colab.research.google.com/github/derek881107/Hyperparameter-Tuning-with-Portuguese-bank-marketing-dataset/blob/main/Hyperparameter_Tuning.ipynb\" target=\"_parent\"><img src=\"https://colab.research.google.com/assets/colab-badge.svg\" alt=\"Open In Colab\"/></a>"
      ]
    },
    {
      "cell_type": "markdown",
      "source": [
        "# **Welcome to the Machine Learning Model Playground! 🎢**\n",
        "\n",
        "Are you tired of data that looks like it went through a tornado before landing in your lap? Well, you're in luck! This project is your ultimate guide to transforming messy datasets into machine learning masterpieces. 🧹🤖\n",
        "\n",
        "# **What Does This Project Do?**\n",
        "\n",
        "This code takes you on an end-to-end journey of building and optimizing machine learning models for a **Portuguese bank marketing dataset**. Whether you're struggling with imbalanced data, endless hyperparameter tuning, or just figuring out what to do with all those \"yes\" and \"no\" columns, we’ve got you covered!\n",
        "\n",
        "Introdution Video Link: https://www.youtube.com/watch?v=MlW7SlbG_9A\n",
        "\n",
        "\n",
        "# **Here’s what this project tackles step-by-step:**\n",
        "\n",
        "**Data Preprocessing:**\n",
        "\n",
        "Cleans up messy datasets using one-hot encoding and SMOTE (because imbalanced data is like a one-sided coin—useless).\n",
        "Scales features with StandardScaler to make sure every variable plays nice.\n",
        "\n",
        "**Model Training:**\n",
        "\n",
        "Builds Decision Trees and Random Forests to solve classification problems.\n",
        "Integrates hyperparameter tuning techniques like RandomizedSearch, GridSearch, and even Bayesian optimization for the nerds out there.\n",
        "\n",
        "**Evaluation & Insights:**\n",
        "\n",
        "Evaluates performance with metrics like accuracy, precision, recall, F1-score, and the ever-popular ROC AUC.\n",
        "Visualizes the results with ROC curves, because who doesn’t love a pretty graph? 📈\n",
        "\n",
        "# **How Do We Solve Problems with Machine Learning?**\n",
        "\n",
        "This project tackles the challenges of:\n",
        "\n",
        "**Imbalanced Data:** Solved with SMOTE, which generates synthetic samples to balance the dataset.\n",
        "\n",
        "**Hyperparameter Tuning:** Uses a mix of search techniques (random, grid, bayesian) to find the best model configuration.\n",
        "Data Scaling: Applies StandardScaler to normalize features, ensuring fair comparisons.\n",
        "\n",
        "**Model Comparison:** Provides clear metrics and visualizations to choose the best-performing model for your data.\n",
        "\n",
        "# **Technologies Used**\n",
        "\n",
        "**Python**:The engine powering everything.\n",
        "\n",
        "**Pandas & NumPy** :For cleaning and transforming data like a pro.\n",
        "\n",
        "**Scikit-Learn:** For building, tuning, and evaluating machine learning models.\n",
        "\n",
        "**SMOTE**: To address imbalanced datasets with ease.\n",
        "\n",
        "**Matplotlib & Seaborn: **Because no machine learning project is complete without beautiful visualizations.\n",
        "\n",
        "\n",
        "# **Ready to Dive In?**\n",
        "Fork it, clone it, and let the machine learning magic begin! 🚀\n",
        "And remember, the only thing better than finding insights in your data is doing it with style (and minimal stress). 😎\n",
        "\n"
      ],
      "metadata": {
        "id": "p_igXT8-YEK9"
      }
    },
    {
      "cell_type": "markdown",
      "source": [
        "**1. Install Required Libraries**\n",
        "\n",
        "This section installs the required Python libraries, such as imbalanced-learn for handling imbalanced datasets and scikit-optimize for Bayesian optimization, which might not be pre-installed in Google Colab."
      ],
      "metadata": {
        "id": "hZmMfsrqV6xc"
      }
    },
    {
      "cell_type": "code",
      "execution_count": 1,
      "metadata": {
        "colab": {
          "base_uri": "https://localhost:8080/"
        },
        "id": "rtUIzktIUeUT",
        "outputId": "a6e4b74f-3288-4526-8b91-50fa039b1a84"
      },
      "outputs": [
        {
          "output_type": "stream",
          "name": "stdout",
          "text": [
            "Requirement already satisfied: imbalanced-learn in /usr/local/lib/python3.11/dist-packages (0.13.0)\n",
            "Collecting scikit-optimize\n",
            "  Downloading scikit_optimize-0.10.2-py2.py3-none-any.whl.metadata (9.7 kB)\n",
            "Requirement already satisfied: numpy<3,>=1.24.3 in /usr/local/lib/python3.11/dist-packages (from imbalanced-learn) (1.26.4)\n",
            "Requirement already satisfied: scipy<2,>=1.10.1 in /usr/local/lib/python3.11/dist-packages (from imbalanced-learn) (1.13.1)\n",
            "Requirement already satisfied: scikit-learn<2,>=1.3.2 in /usr/local/lib/python3.11/dist-packages (from imbalanced-learn) (1.6.0)\n",
            "Requirement already satisfied: sklearn-compat<1,>=0.1 in /usr/local/lib/python3.11/dist-packages (from imbalanced-learn) (0.1.3)\n",
            "Requirement already satisfied: joblib<2,>=1.1.1 in /usr/local/lib/python3.11/dist-packages (from imbalanced-learn) (1.4.2)\n",
            "Requirement already satisfied: threadpoolctl<4,>=2.0.0 in /usr/local/lib/python3.11/dist-packages (from imbalanced-learn) (3.5.0)\n",
            "Collecting pyaml>=16.9 (from scikit-optimize)\n",
            "  Downloading pyaml-25.1.0-py3-none-any.whl.metadata (12 kB)\n",
            "Requirement already satisfied: packaging>=21.3 in /usr/local/lib/python3.11/dist-packages (from scikit-optimize) (24.2)\n",
            "Requirement already satisfied: PyYAML in /usr/local/lib/python3.11/dist-packages (from pyaml>=16.9->scikit-optimize) (6.0.2)\n",
            "Downloading scikit_optimize-0.10.2-py2.py3-none-any.whl (107 kB)\n",
            "\u001b[2K   \u001b[90m━━━━━━━━━━━━━━━━━━━━━━━━━━━━━━━━━━━━━━━━\u001b[0m \u001b[32m107.8/107.8 kB\u001b[0m \u001b[31m3.0 MB/s\u001b[0m eta \u001b[36m0:00:00\u001b[0m\n",
            "\u001b[?25hDownloading pyaml-25.1.0-py3-none-any.whl (26 kB)\n",
            "Installing collected packages: pyaml, scikit-optimize\n",
            "Successfully installed pyaml-25.1.0 scikit-optimize-0.10.2\n"
          ]
        }
      ],
      "source": [
        "# Install necessary libraries in Colab\n",
        "!pip install imbalanced-learn scikit-optimize\n"
      ]
    },
    {
      "cell_type": "markdown",
      "source": [
        "**2. Import Libraries**\n",
        "\n",
        "This section imports all necessary libraries for data processing, model training, hyperparameter tuning, visualization, and evaluation."
      ],
      "metadata": {
        "id": "FdSFTOwdWBC3"
      }
    },
    {
      "cell_type": "code",
      "source": [
        "# Import required libraries\n",
        "import pandas as pd\n",
        "import numpy as np\n",
        "from sklearn.model_selection import train_test_split, RandomizedSearchCV, GridSearchCV\n",
        "from skopt import BayesSearchCV\n",
        "from skopt.space import Integer, Categorical\n",
        "from sklearn.tree import DecisionTreeClassifier\n",
        "from sklearn.ensemble import RandomForestClassifier\n",
        "from sklearn.preprocessing import StandardScaler\n",
        "from sklearn.metrics import accuracy_score, precision_score, recall_score, f1_score, roc_curve, auc\n",
        "from imblearn.over_sampling import SMOTE\n",
        "import matplotlib.pyplot as plt\n",
        "import seaborn as sns\n",
        "import statsmodels.api as sm\n",
        "from google.colab import files\n"
      ],
      "metadata": {
        "id": "59BT6EEbUpnZ"
      },
      "execution_count": 2,
      "outputs": []
    },
    {
      "cell_type": "markdown",
      "source": [
        "**3. Upload Data Files**\n",
        "\n",
        "This section allows you to manually upload your dataset files (Portugese Bank Data-TRAIN.csv and Portugese Bank Data-TEST.csv) to the Colab environment."
      ],
      "metadata": {
        "id": "PmmZ_R_PWJDS"
      }
    },
    {
      "cell_type": "code",
      "source": [
        "# Upload files manually\n",
        "uploaded = files.upload()\n"
      ],
      "metadata": {
        "colab": {
          "base_uri": "https://localhost:8080/",
          "height": 109
        },
        "id": "TORpvJSrUtvK",
        "outputId": "b1d3f5b9-8bd9-432c-bbd0-d61df2b6791f"
      },
      "execution_count": 5,
      "outputs": [
        {
          "output_type": "display_data",
          "data": {
            "text/plain": [
              "<IPython.core.display.HTML object>"
            ],
            "text/html": [
              "\n",
              "     <input type=\"file\" id=\"files-c918f175-7bdd-46f8-8887-4da2b2bb6904\" name=\"files[]\" multiple disabled\n",
              "        style=\"border:none\" />\n",
              "     <output id=\"result-c918f175-7bdd-46f8-8887-4da2b2bb6904\">\n",
              "      Upload widget is only available when the cell has been executed in the\n",
              "      current browser session. Please rerun this cell to enable.\n",
              "      </output>\n",
              "      <script>// Copyright 2017 Google LLC\n",
              "//\n",
              "// Licensed under the Apache License, Version 2.0 (the \"License\");\n",
              "// you may not use this file except in compliance with the License.\n",
              "// You may obtain a copy of the License at\n",
              "//\n",
              "//      http://www.apache.org/licenses/LICENSE-2.0\n",
              "//\n",
              "// Unless required by applicable law or agreed to in writing, software\n",
              "// distributed under the License is distributed on an \"AS IS\" BASIS,\n",
              "// WITHOUT WARRANTIES OR CONDITIONS OF ANY KIND, either express or implied.\n",
              "// See the License for the specific language governing permissions and\n",
              "// limitations under the License.\n",
              "\n",
              "/**\n",
              " * @fileoverview Helpers for google.colab Python module.\n",
              " */\n",
              "(function(scope) {\n",
              "function span(text, styleAttributes = {}) {\n",
              "  const element = document.createElement('span');\n",
              "  element.textContent = text;\n",
              "  for (const key of Object.keys(styleAttributes)) {\n",
              "    element.style[key] = styleAttributes[key];\n",
              "  }\n",
              "  return element;\n",
              "}\n",
              "\n",
              "// Max number of bytes which will be uploaded at a time.\n",
              "const MAX_PAYLOAD_SIZE = 100 * 1024;\n",
              "\n",
              "function _uploadFiles(inputId, outputId) {\n",
              "  const steps = uploadFilesStep(inputId, outputId);\n",
              "  const outputElement = document.getElementById(outputId);\n",
              "  // Cache steps on the outputElement to make it available for the next call\n",
              "  // to uploadFilesContinue from Python.\n",
              "  outputElement.steps = steps;\n",
              "\n",
              "  return _uploadFilesContinue(outputId);\n",
              "}\n",
              "\n",
              "// This is roughly an async generator (not supported in the browser yet),\n",
              "// where there are multiple asynchronous steps and the Python side is going\n",
              "// to poll for completion of each step.\n",
              "// This uses a Promise to block the python side on completion of each step,\n",
              "// then passes the result of the previous step as the input to the next step.\n",
              "function _uploadFilesContinue(outputId) {\n",
              "  const outputElement = document.getElementById(outputId);\n",
              "  const steps = outputElement.steps;\n",
              "\n",
              "  const next = steps.next(outputElement.lastPromiseValue);\n",
              "  return Promise.resolve(next.value.promise).then((value) => {\n",
              "    // Cache the last promise value to make it available to the next\n",
              "    // step of the generator.\n",
              "    outputElement.lastPromiseValue = value;\n",
              "    return next.value.response;\n",
              "  });\n",
              "}\n",
              "\n",
              "/**\n",
              " * Generator function which is called between each async step of the upload\n",
              " * process.\n",
              " * @param {string} inputId Element ID of the input file picker element.\n",
              " * @param {string} outputId Element ID of the output display.\n",
              " * @return {!Iterable<!Object>} Iterable of next steps.\n",
              " */\n",
              "function* uploadFilesStep(inputId, outputId) {\n",
              "  const inputElement = document.getElementById(inputId);\n",
              "  inputElement.disabled = false;\n",
              "\n",
              "  const outputElement = document.getElementById(outputId);\n",
              "  outputElement.innerHTML = '';\n",
              "\n",
              "  const pickedPromise = new Promise((resolve) => {\n",
              "    inputElement.addEventListener('change', (e) => {\n",
              "      resolve(e.target.files);\n",
              "    });\n",
              "  });\n",
              "\n",
              "  const cancel = document.createElement('button');\n",
              "  inputElement.parentElement.appendChild(cancel);\n",
              "  cancel.textContent = 'Cancel upload';\n",
              "  const cancelPromise = new Promise((resolve) => {\n",
              "    cancel.onclick = () => {\n",
              "      resolve(null);\n",
              "    };\n",
              "  });\n",
              "\n",
              "  // Wait for the user to pick the files.\n",
              "  const files = yield {\n",
              "    promise: Promise.race([pickedPromise, cancelPromise]),\n",
              "    response: {\n",
              "      action: 'starting',\n",
              "    }\n",
              "  };\n",
              "\n",
              "  cancel.remove();\n",
              "\n",
              "  // Disable the input element since further picks are not allowed.\n",
              "  inputElement.disabled = true;\n",
              "\n",
              "  if (!files) {\n",
              "    return {\n",
              "      response: {\n",
              "        action: 'complete',\n",
              "      }\n",
              "    };\n",
              "  }\n",
              "\n",
              "  for (const file of files) {\n",
              "    const li = document.createElement('li');\n",
              "    li.append(span(file.name, {fontWeight: 'bold'}));\n",
              "    li.append(span(\n",
              "        `(${file.type || 'n/a'}) - ${file.size} bytes, ` +\n",
              "        `last modified: ${\n",
              "            file.lastModifiedDate ? file.lastModifiedDate.toLocaleDateString() :\n",
              "                                    'n/a'} - `));\n",
              "    const percent = span('0% done');\n",
              "    li.appendChild(percent);\n",
              "\n",
              "    outputElement.appendChild(li);\n",
              "\n",
              "    const fileDataPromise = new Promise((resolve) => {\n",
              "      const reader = new FileReader();\n",
              "      reader.onload = (e) => {\n",
              "        resolve(e.target.result);\n",
              "      };\n",
              "      reader.readAsArrayBuffer(file);\n",
              "    });\n",
              "    // Wait for the data to be ready.\n",
              "    let fileData = yield {\n",
              "      promise: fileDataPromise,\n",
              "      response: {\n",
              "        action: 'continue',\n",
              "      }\n",
              "    };\n",
              "\n",
              "    // Use a chunked sending to avoid message size limits. See b/62115660.\n",
              "    let position = 0;\n",
              "    do {\n",
              "      const length = Math.min(fileData.byteLength - position, MAX_PAYLOAD_SIZE);\n",
              "      const chunk = new Uint8Array(fileData, position, length);\n",
              "      position += length;\n",
              "\n",
              "      const base64 = btoa(String.fromCharCode.apply(null, chunk));\n",
              "      yield {\n",
              "        response: {\n",
              "          action: 'append',\n",
              "          file: file.name,\n",
              "          data: base64,\n",
              "        },\n",
              "      };\n",
              "\n",
              "      let percentDone = fileData.byteLength === 0 ?\n",
              "          100 :\n",
              "          Math.round((position / fileData.byteLength) * 100);\n",
              "      percent.textContent = `${percentDone}% done`;\n",
              "\n",
              "    } while (position < fileData.byteLength);\n",
              "  }\n",
              "\n",
              "  // All done.\n",
              "  yield {\n",
              "    response: {\n",
              "      action: 'complete',\n",
              "    }\n",
              "  };\n",
              "}\n",
              "\n",
              "scope.google = scope.google || {};\n",
              "scope.google.colab = scope.google.colab || {};\n",
              "scope.google.colab._files = {\n",
              "  _uploadFiles,\n",
              "  _uploadFilesContinue,\n",
              "};\n",
              "})(self);\n",
              "</script> "
            ]
          },
          "metadata": {}
        },
        {
          "output_type": "stream",
          "name": "stdout",
          "text": [
            "Saving Portugese Bank Data-TRAIN.csv to Portugese Bank Data-TRAIN (1).csv\n",
            "Saving Portugese Bank Data-TEST.csv to Portugese Bank Data-TEST.csv\n"
          ]
        }
      ]
    },
    {
      "cell_type": "markdown",
      "source": [
        "**4. Load and Preprocess Data**\n",
        "\n",
        "This section defines a function to load and preprocess the data by encoding categorical variables and converting the target variable (y) into binary format. It then loads the training and testing datasets."
      ],
      "metadata": {
        "id": "BhjYdfBLWc5Z"
      }
    },
    {
      "cell_type": "code",
      "source": [
        "# Load and preprocess data\n",
        "def load_and_preprocess(filepath):\n",
        "    data = pd.read_csv(filepath)\n",
        "    data['y'] = data['y'].apply(lambda x: 1 if x == 'yes' else 0)\n",
        "    data = pd.get_dummies(data, columns=['job', 'marital', 'education', 'default', 'housing', 'loan',\n",
        "                                         'contact', 'month', 'poutcome'], drop_first=True)\n",
        "    return data\n",
        "\n",
        "# Replace file names with uploaded file names\n",
        "train_data = load_and_preprocess('Portugese Bank Data-TRAIN.csv')\n",
        "test_data = load_and_preprocess('Portugese Bank Data-TEST.csv')\n",
        "\n",
        "X_train, y_train = train_data.drop('y', axis=1), train_data['y']\n",
        "X_test, y_test = test_data.drop('y', axis=1), test_data['y']\n"
      ],
      "metadata": {
        "id": "uY-cKiIUUwQ8"
      },
      "execution_count": 6,
      "outputs": []
    },
    {
      "cell_type": "markdown",
      "source": [
        "**5. Balance and Standardize Data**\n",
        "\n",
        "This section balances the training data using SMOTE (Synthetic Minority Oversampling Technique) to address class imbalance. It then standardizes the features for consistency in model training."
      ],
      "metadata": {
        "id": "bXlqgZJEWjvt"
      }
    },
    {
      "cell_type": "code",
      "source": [
        "# Balance data using SMOTE and standardize features\n",
        "smote = SMOTE(random_state=42)\n",
        "X_train, y_train = smote.fit_resample(X_train, y_train)\n",
        "\n",
        "scaler = StandardScaler()\n",
        "X_train = scaler.fit_transform(X_train)\n",
        "X_test = scaler.transform(X_test)\n"
      ],
      "metadata": {
        "id": "pL1Vla8EVVVh"
      },
      "execution_count": 7,
      "outputs": []
    },
    {
      "cell_type": "markdown",
      "source": [
        "**6. Define Hyperparameters**\n",
        "\n",
        "This section defines the hyperparameter grids for Decision Tree and Random Forest models to be used during hyperparameter tuning."
      ],
      "metadata": {
        "id": "-rmfovA5Wr3d"
      }
    },
    {
      "cell_type": "code",
      "source": [
        "# Define models and hyperparameters for tuning\n",
        "def get_model_params():\n",
        "    dt_params = {\n",
        "        'max_depth': [None, 5, 10, 20],\n",
        "        'min_samples_split': [2, 5, 10],\n",
        "        'min_samples_leaf': [1, 2, 5],\n",
        "        'class_weight': [None, 'balanced']\n",
        "    }\n",
        "    rf_params = {\n",
        "        'n_estimators': [50, 100, 200],\n",
        "        'max_depth': [None, 10, 20, 30],\n",
        "        'min_samples_split': [2, 5, 10],\n",
        "        'min_samples_leaf': [1, 2, 4],\n",
        "        'max_features': ['sqrt', 'log2']\n",
        "    }\n",
        "    return dt_params, rf_params\n",
        "\n",
        "dt_params, rf_params = get_model_params()\n"
      ],
      "metadata": {
        "id": "mtRR8Jc_VXqH"
      },
      "execution_count": 8,
      "outputs": []
    },
    {
      "cell_type": "markdown",
      "source": [
        "**7. Hyperparameter Tuning Function**\n",
        "\n",
        "This function performs hyperparameter tuning using one of three methods: RandomizedSearchCV, GridSearchCV, or BayesSearchCV, to find the best parameters for a given model."
      ],
      "metadata": {
        "id": "xaVGZr6wWu8P"
      }
    },
    {
      "cell_type": "code",
      "source": [
        "# Hyperparameter tuning function\n",
        "def tune_model(model, param_dist, search_method, X, y):\n",
        "    if search_method == 'random':\n",
        "        search = RandomizedSearchCV(model, param_dist, n_iter=10, cv=5, scoring='accuracy', random_state=42)\n",
        "    elif search_method == 'grid':\n",
        "        search = GridSearchCV(model, param_dist, cv=5, scoring='accuracy')\n",
        "    elif search_method == 'bayes':\n",
        "        search = BayesSearchCV(model, param_dist, n_iter=10, cv=5, scoring='accuracy', random_state=42)\n",
        "    search.fit(X, y)\n",
        "    return search\n"
      ],
      "metadata": {
        "id": "V_g2Bb_PVZ95"
      },
      "execution_count": 9,
      "outputs": []
    },
    {
      "cell_type": "markdown",
      "source": [
        "**8. Tune Models**\n",
        "\n",
        "This section applies the hyperparameter tuning function to Decision Tree and Random Forest models using RandomizedSearch, GridSearch, and Bayesian optimization methods."
      ],
      "metadata": {
        "id": "V3ojqgYoW1hh"
      }
    },
    {
      "cell_type": "code",
      "source": [
        "# Tune models\n",
        "dt_random_search = tune_model(DecisionTreeClassifier(random_state=42), dt_params, 'random', X_train, y_train)\n",
        "rf_random_search = tune_model(RandomForestClassifier(random_state=42), rf_params, 'random', X_train, y_train)\n",
        "\n",
        "dt_grid_search = tune_model(DecisionTreeClassifier(random_state=42), dt_params, 'grid', X_train, y_train)\n",
        "rf_grid_search = tune_model(RandomForestClassifier(random_state=42), rf_params, 'grid', X_train, y_train)\n",
        "\n",
        "dt_bayes_params = {\n",
        "    'max_depth': [5, 20],\n",
        "    'min_samples_split': Integer(2, 15),\n",
        "    'min_samples_leaf': Integer(1, 10),\n",
        "    'class_weight': [None, 'balanced']\n",
        "}\n",
        "rf_bayes_params = {\n",
        "    'n_estimators': Integer(50, 200),\n",
        "    'max_depth': Integer(10, 30),\n",
        "    'min_samples_split': Integer(2, 10),\n",
        "    'min_samples_leaf': Integer(1, 5),\n",
        "    'max_features': Categorical(['sqrt', 'log2'])\n",
        "}\n",
        "\n",
        "dt_bayes_search = tune_model(DecisionTreeClassifier(random_state=42), dt_bayes_params, 'bayes', X_train, y_train)\n",
        "rf_bayes_search = tune_model(RandomForestClassifier(random_state=42), rf_bayes_params, 'bayes', X_train, y_train)\n"
      ],
      "metadata": {
        "colab": {
          "base_uri": "https://localhost:8080/"
        },
        "id": "FMDyd9ZtVhGn",
        "outputId": "863af6c9-7111-4a11-a663-3521ec98aa06"
      },
      "execution_count": 10,
      "outputs": [
        {
          "output_type": "stream",
          "name": "stderr",
          "text": [
            "/usr/local/lib/python3.11/dist-packages/skopt/space/space.py:116: UserWarning: Dimension [5, 20] was inferred to Integer(low=5, high=20, prior='uniform', transform='identity'). In upcoming versions of scikit-optimize, it will be inferred to Categorical(categories=(5, 20), prior=None). See the documentation of the check_dimension function for the upcoming API.\n",
            "  warnings.warn(\n",
            "/usr/local/lib/python3.11/dist-packages/skopt/space/space.py:116: UserWarning: Dimension [5, 20] was inferred to Integer(low=5, high=20, prior='uniform', transform='identity'). In upcoming versions of scikit-optimize, it will be inferred to Categorical(categories=(5, 20), prior=None). See the documentation of the check_dimension function for the upcoming API.\n",
            "  warnings.warn(\n",
            "/usr/local/lib/python3.11/dist-packages/skopt/space/space.py:116: UserWarning: Dimension [5, 20] was inferred to Integer(low=5, high=20, prior='uniform', transform='identity'). In upcoming versions of scikit-optimize, it will be inferred to Categorical(categories=(5, 20), prior=None). See the documentation of the check_dimension function for the upcoming API.\n",
            "  warnings.warn(\n"
          ]
        }
      ]
    },
    {
      "cell_type": "markdown",
      "source": [
        "**9. Model Evaluation**\n",
        "\n",
        "This section compiles the tuned models and evaluates their performance on the test data using various metrics, including accuracy, precision, recall, F1-score, and ROC AUC."
      ],
      "metadata": {
        "id": "cfkICzU-W6Sq"
      }
    },
    {
      "cell_type": "code",
      "source": [
        "# Compile tuned models\n",
        "models = {\n",
        "    'DT_Random': DecisionTreeClassifier(**dt_random_search.best_params_, random_state=42),\n",
        "    'DT_Grid': DecisionTreeClassifier(**dt_grid_search.best_params_, random_state=42),\n",
        "    'DT_Bayes': DecisionTreeClassifier(**dt_bayes_search.best_params_, random_state=42),\n",
        "    'RF_Random': RandomForestClassifier(**rf_random_search.best_params_, random_state=42),\n",
        "    'RF_Grid': RandomForestClassifier(**rf_grid_search.best_params_, random_state=42),\n",
        "    'RF_Bayes': RandomForestClassifier(**rf_bayes_search.best_params_, random_state=42)\n",
        "}\n",
        "\n",
        "# Evaluate models\n",
        "def evaluate_model(model, X_test, y_test):\n",
        "    y_pred = model.predict(X_test)\n",
        "    y_pred_prob = model.predict_proba(X_test)[:, 1] if hasattr(model, \"predict_proba\") else None\n",
        "    fpr, tpr, _ = roc_curve(y_test, y_pred_prob) if y_pred_prob is not None else (None, None, None)\n",
        "    roc_auc = auc(fpr, tpr) if fpr is not None else None\n",
        "    return {\n",
        "        'Accuracy': accuracy_score(y_test, y_pred),\n",
        "        'Precision': precision_score(y_test, y_pred, average='weighted'),\n",
        "        'Recall': recall_score(y_test, y_pred, average='weighted'),\n",
        "        'F1-Score': f1_score(y_test, y_pred, average='weighted'),\n",
        "        'ROC AUC': roc_auc\n",
        "    }\n",
        "\n",
        "# Collect evaluation results\n",
        "results = {name: evaluate_model(model.fit(X_train, y_train), X_test, y_test) for name, model in models.items()}\n",
        "results_df = pd.DataFrame(results).T\n",
        "print(\"Evaluation Results:\\n\", results_df)\n"
      ],
      "metadata": {
        "colab": {
          "base_uri": "https://localhost:8080/"
        },
        "id": "SmMO_lXoVjQl",
        "outputId": "10eb68eb-e843-448d-960d-97349e208842"
      },
      "execution_count": 11,
      "outputs": [
        {
          "output_type": "stream",
          "name": "stdout",
          "text": [
            "Evaluation Results:\n",
            "            Accuracy  Precision    Recall  F1-Score   ROC AUC\n",
            "DT_Random  0.877994   0.886084  0.877994  0.881658  0.737450\n",
            "DT_Grid    0.877994   0.886084  0.877994  0.881658  0.737450\n",
            "DT_Bayes   0.881688   0.885298  0.881688  0.883407  0.828088\n",
            "RF_Random  0.904315   0.895224  0.904315  0.898240  0.919870\n",
            "RF_Grid    0.906107   0.897110  0.906107  0.899972  0.921532\n",
            "RF_Bayes   0.903807   0.895121  0.903807  0.898140  0.918944\n"
          ]
        }
      ]
    },
    {
      "cell_type": "markdown",
      "source": [
        "**10. Visualization**\n",
        "\n",
        "This section visualizes the ROC curves for all models, helping to compare their performance in terms of true positive and false positive rates.\n"
      ],
      "metadata": {
        "id": "9J0ARM8NW_-f"
      }
    },
    {
      "cell_type": "code",
      "source": [
        "# ROC Curve Plot\n",
        "plt.figure(figsize=(10, 8))\n",
        "for name, model in models.items():\n",
        "    y_pred_prob = model.predict_proba(X_test)[:, 1]\n",
        "    fpr, tpr, _ = roc_curve(y_test, y_pred_prob)\n",
        "    plt.plot(fpr, tpr, label=f'{name} (AUC = {auc(fpr, tpr):.2f})')\n",
        "plt.plot([0, 1], [0, 1], 'k--', label=\"Random Guess\")\n",
        "plt.xlabel('False Positive Rate')\n",
        "plt.ylabel('True Positive Rate')\n",
        "plt.title('ROC Curves for Models')\n",
        "plt.legend()\n",
        "plt.show()\n"
      ],
      "metadata": {
        "colab": {
          "base_uri": "https://localhost:8080/",
          "height": 718
        },
        "id": "XU9xDQWVVlY4",
        "outputId": "5f66fd7b-0d36-421e-9dd8-f9b04a4359b8"
      },
      "execution_count": 12,
      "outputs": [
        {
          "output_type": "display_data",
          "data": {
            "text/plain": [
              "<Figure size 1000x800 with 1 Axes>"
            ],
            "image/png": "[encoded data removed]"
          },
          "metadata": {}
        }
      ]
    }
  ]
}